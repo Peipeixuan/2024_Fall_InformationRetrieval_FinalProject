{
 "cells": [
  {
   "cell_type": "code",
   "execution_count": 9,
   "metadata": {},
   "outputs": [],
   "source": [
    "import json\n",
    "from rouge_chinese import Rouge\n",
    "import pandas as pd\n",
    "import jieba"
   ]
  },
  {
   "cell_type": "code",
   "execution_count": null,
   "metadata": {},
   "outputs": [],
   "source": [
    "# 分詞函數，使用 jieba 的 cut_all=True\n",
    "def segment_sentence(sentence):\n",
    "    return \" \".join(jieba.cut(sentence, cut_all=True))"
   ]
  },
  {
   "cell_type": "code",
   "execution_count": 15,
   "metadata": {
    "tags": []
   },
   "outputs": [],
   "source": [
    "df = pd.read_csv('./output_data/trained_taide_generated_results.csv')\n",
    "\n",
    "# 對 'hyp' 和 'ref' 欄位進行分詞處理\n",
    "hyps = df['generated_text'].apply(segment_sentence).tolist()\n",
    "refs = df['news'].apply(segment_sentence).tolist()\n",
    "\n",
    "\n",
    "rouge = Rouge()\n",
    "scores = rouge.get_scores(hyps, refs, avg=True)"
   ]
  },
  {
   "cell_type": "code",
   "execution_count": 16,
   "metadata": {},
   "outputs": [
    {
     "data": {
      "text/plain": [
       "{'rouge-1': {'r': 0.4511208231183141,\n",
       "  'p': 0.4421877261613192,\n",
       "  'f': 0.4317221081824793},\n",
       " 'rouge-2': {'r': 0.17360326300828607,\n",
       "  'p': 0.1556087737187585,\n",
       "  'f': 0.15471723334524298},\n",
       " 'rouge-l': {'r': 0.2324259796899789,\n",
       "  'p': 0.18226236084653444,\n",
       "  'f': 0.18588318798505113}}"
      ]
     },
     "execution_count": 16,
     "metadata": {},
     "output_type": "execute_result"
    }
   ],
   "source": [
    "scores"
   ]
  },
  {
   "cell_type": "code",
   "execution_count": 10,
   "metadata": {},
   "outputs": [
    {
     "name": "stderr",
     "output_type": "stream",
     "text": [
      "Building prefix dict from the default dictionary ...\n"
     ]
    },
    {
     "name": "stderr",
     "output_type": "stream",
     "text": [
      "Dumping model to file cache /tmp/jieba.cache\n",
      "Loading model cost 0.379 seconds.\n",
      "Prefix dict has been built successfully.\n"
     ]
    }
   ],
   "source": [
    "df = pd.read_csv('./output_data/taide_generated_results.csv')\n",
    "\n",
    "# 對 'hyp' 和 'ref' 欄位進行分詞處理\n",
    "hyps = df['generated_text'].apply(segment_sentence).tolist()\n",
    "refs = df['news'].apply(segment_sentence).tolist()\n",
    "\n",
    "rouge = Rouge()\n",
    "scores = rouge.get_scores(hyps, refs, avg=True)"
   ]
  },
  {
   "cell_type": "code",
   "execution_count": 11,
   "metadata": {},
   "outputs": [
    {
     "data": {
      "text/plain": [
       "{'rouge-1': {'r': 0.4615398059335756,\n",
       "  'p': 0.3382712130637915,\n",
       "  'f': 0.3811970976009242},\n",
       " 'rouge-2': {'r': 0.12795835854038856,\n",
       "  'p': 0.08388271248327102,\n",
       "  'f': 0.09756321921132062},\n",
       " 'rouge-l': {'r': 0.19196442496200863,\n",
       "  'p': 0.11136223671346657,\n",
       "  'f': 0.13458398452858825}}"
      ]
     },
     "execution_count": 11,
     "metadata": {},
     "output_type": "execute_result"
    }
   ],
   "source": [
    "scores"
   ]
  },
  {
   "cell_type": "code",
   "execution_count": 13,
   "metadata": {},
   "outputs": [],
   "source": [
    "df = pd.read_csv('./output_data/breeze_generated_results.csv')\n",
    "\n",
    "# 對 'hyp' 和 'ref' 欄位進行分詞處理\n",
    "hyps = df['generated_text'].apply(segment_sentence).tolist()\n",
    "refs = df['news'].apply(segment_sentence).tolist()\n",
    "\n",
    "\n",
    "rouge = Rouge()\n",
    "scores = rouge.get_scores(hyps, refs, avg=True)"
   ]
  },
  {
   "cell_type": "code",
   "execution_count": 14,
   "metadata": {},
   "outputs": [
    {
     "data": {
      "text/plain": [
       "{'rouge-1': {'r': 0.3549186870641717,\n",
       "  'p': 0.4806815345312117,\n",
       "  'f': 0.3978261751386041},\n",
       " 'rouge-2': {'r': 0.10743453224697795,\n",
       "  'p': 0.13634442102706365,\n",
       "  'f': 0.11503379446579777},\n",
       " 'rouge-l': {'r': 0.18188053771015492,\n",
       "  'p': 0.1590166751926313,\n",
       "  'f': 0.15292818032573624}}"
      ]
     },
     "execution_count": 14,
     "metadata": {},
     "output_type": "execute_result"
    }
   ],
   "source": [
    "scores"
   ]
  },
  {
   "cell_type": "code",
   "execution_count": 18,
   "metadata": {},
   "outputs": [],
   "source": [
    "df = pd.read_csv('./output_data/gemini_generated_results.csv')\n",
    "\n",
    "# 對 'hyp' 和 'ref' 欄位進行分詞處理\n",
    "hyps = df['generated_text'].apply(segment_sentence).tolist()\n",
    "refs = df['news'].apply(segment_sentence).tolist()\n",
    "\n",
    "\n",
    "rouge = Rouge()\n",
    "scores = rouge.get_scores(hyps, refs, avg=True)"
   ]
  },
  {
   "cell_type": "code",
   "execution_count": 19,
   "metadata": {},
   "outputs": [
    {
     "data": {
      "text/plain": [
       "{'rouge-1': {'r': 0.4654272001936413,\n",
       "  'p': 0.3816686083677185,\n",
       "  'f': 0.4142064921483392},\n",
       " 'rouge-2': {'r': 0.14114553723291426,\n",
       "  'p': 0.10892694365108278,\n",
       "  'f': 0.1205896419696681},\n",
       " 'rouge-l': {'r': 0.205050958898606,\n",
       "  'p': 0.14276526771888554,\n",
       "  'f': 0.16411176986781714}}"
      ]
     },
     "execution_count": 19,
     "metadata": {},
     "output_type": "execute_result"
    }
   ],
   "source": [
    "scores"
   ]
  },
  {
   "cell_type": "code",
   "execution_count": null,
   "metadata": {},
   "outputs": [],
   "source": []
  }
 ],
 "metadata": {
  "kernelspec": {
   "display_name": "Python 3",
   "language": "python",
   "name": "python3"
  },
  "language_info": {
   "codemirror_mode": {
    "name": "ipython",
    "version": 3
   },
   "file_extension": ".py",
   "mimetype": "text/x-python",
   "name": "python",
   "nbconvert_exporter": "python",
   "pygments_lexer": "ipython3",
   "version": "3.8.10"
  }
 },
 "nbformat": 4,
 "nbformat_minor": 4
}
